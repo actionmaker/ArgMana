{
 "cells": [
  {
   "cell_type": "code",
   "execution_count": null,
   "id": "a30c78b7-db28-409a-b7f7-3eab8e4c5821",
   "metadata": {},
   "outputs": [
    {
     "name": "stdout",
     "output_type": "stream",
     "text": [
      "Welcome to Argmana!\n"
     ]
    },
    {
     "name": "stdin",
     "output_type": "stream",
     "text": [
      "Input a word, any word:  pot\n"
     ]
    },
    {
     "name": "stdout",
     "output_type": "stream",
     "text": [
      "Score:  1\n",
      "History:  ['pot']\n",
      "Letters discovered in the anagrams:  \n",
      "\n",
      "\n"
     ]
    },
    {
     "name": "stdin",
     "output_type": "stream",
     "text": [
      "Input a word, any word:  sdkfj90er\n"
     ]
    },
    {
     "name": "stdout",
     "output_type": "stream",
     "text": [
      "That's not a word afaik...\n",
      "Score:  2\n",
      "History:  ['pot', 'sdkfj90er']\n",
      "You found all the letters in the anagrams:  \n",
      "\n",
      "\n"
     ]
    }
   ],
   "source": [
    "import random\n",
    "\n",
    "wset = set(line.strip() for line in open('/Users/actionmaker/Desktop/Argmana/words'))\n",
    "\n",
    "with open('/Users/actionmaker/Desktop/Argmana/anagrams.csv') as f:\n",
    "    lines = f.readlines()\n",
    "    ana1,ana2 = random.choice(lines).strip().split(',')\n",
    "\n",
    "cond1 = False\n",
    "cond2 = False\n",
    "\n",
    "\n",
    "tries = 0\n",
    "first = True\n",
    "cond = cond1 & cond2\n",
    "history = []\n",
    "print(\"Welcome to Argmana!\")\n",
    "clues = set()\n",
    "\n",
    "while(not cond):\n",
    "    word = input('Input a word, any word: ').lower()\n",
    "    if(word not in wset):\n",
    "        print(\"That's not a word afaik...\")\n",
    "        tries = tries + 1\n",
    "        history.append(word)\n",
    "        print(\"Score: \", tries)\n",
    "        print(\"History: \", history)\n",
    "        if clues == set(ana1):\n",
    "            print('You found all the letters in the anagrams: ',','.join(clues))\n",
    "        else:\n",
    "            print('Letters discovered in the anagrams: ',','.join(clues))\n",
    "    else:\n",
    "        history.append(word)\n",
    "        tries = tries + 1\n",
    "        jumble = set(word).intersection(ana1)\n",
    "        if first:\n",
    "            clues = jumble\n",
    "            first = False\n",
    "        else:\n",
    "            clues = clues.union(jumble)\n",
    "        print(\"Score: \", tries)\n",
    "        print(\"History: \", history)    \n",
    "        if clues == set(ana1):\n",
    "            print('You found all the letters in the anagrams: ',','.join(clues))\n",
    "        else:\n",
    "            print('Letters discovered in the anagrams: ',','.join(clues))\n",
    "        if word == ana1:\n",
    "            cond1 = True\n",
    "        if word == ana2:\n",
    "            cond2 = True\n",
    "        cond = cond1 & cond2\n",
    "        if cond1:\n",
    "            print(\"You found the first word: \"+ana1)\n",
    "        if cond2:\n",
    "            print(\"You found the second word: \"+ana2)\n",
    "        if word == 'quit':\n",
    "            cond = True\n",
    "    print(\"\\n\")\n",
    "        \n",
    "\n",
    "if word == 'quit':\n",
    "    print(\"\\n\"*5)\n",
    "    print(\"__________________________________________\")\n",
    "    print(\"Quitter\")\n",
    "    print(\"The anagrams were: \"+ana1+\", \"+ana2)\n",
    "    print(\"__________________________________________\")\n",
    "else:\n",
    "    print(\"\\n\"*5)\n",
    "    print(\"__________________________________________\")\n",
    "    print(\"WINNER! WINNER! WINNER!\")\n",
    "    print(\"The anagrams were: \"+ana1+\", \"+ana2)\n",
    "    print(\"You figured it out in \",tries,\" attempts!\")    \n",
    "    print(\"__________________________________________\")\n"
   ]
  },
  {
   "cell_type": "code",
   "execution_count": null,
   "id": "0bb39d3f-5de9-463e-b996-5e8393c02afc",
   "metadata": {},
   "outputs": [],
   "source": [
    "ana1"
   ]
  },
  {
   "cell_type": "code",
   "execution_count": null,
   "id": "dbb2ca94-3b72-4dcb-9d38-fc3d7d8d1ebb",
   "metadata": {},
   "outputs": [],
   "source": []
  }
 ],
 "metadata": {
  "kernelspec": {
   "display_name": "Python 3 (ipykernel)",
   "language": "python",
   "name": "python3"
  },
  "language_info": {
   "codemirror_mode": {
    "name": "ipython",
    "version": 3
   },
   "file_extension": ".py",
   "mimetype": "text/x-python",
   "name": "python",
   "nbconvert_exporter": "python",
   "pygments_lexer": "ipython3",
   "version": "3.8.12"
  }
 },
 "nbformat": 4,
 "nbformat_minor": 5
}
